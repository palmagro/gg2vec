{
 "cells": [
  {
   "cell_type": "code",
   "execution_count": 1,
   "metadata": {
    "collapsed": false
   },
   "outputs": [
    {
     "data": {
      "text/html": [
       "\n",
       "    <div class=\"bk-banner\">\n",
       "        <a href=\"http://bokeh.pydata.org\" target=\"_blank\" class=\"bk-logo bk-logo-small bk-logo-notebook\"></a>\n",
       "        <span id=\"67afcdb8-b80c-4b06-904c-fe0587ca7820\">Loading BokehJS ...</span>\n",
       "    </div>"
      ]
     },
     "metadata": {},
     "output_type": "display_data"
    },
    {
     "data": {
      "application/javascript": [
       "\n",
       "(function(global) {\n",
       "  function now() {\n",
       "    return new Date();\n",
       "  }\n",
       "\n",
       "  if (typeof (window._bokeh_onload_callbacks) === \"undefined\") {\n",
       "    window._bokeh_onload_callbacks = [];\n",
       "  }\n",
       "\n",
       "  function run_callbacks() {\n",
       "    window._bokeh_onload_callbacks.forEach(function(callback) { callback() });\n",
       "    delete window._bokeh_onload_callbacks\n",
       "    console.info(\"Bokeh: all callbacks have finished\");\n",
       "  }\n",
       "\n",
       "  function load_libs(js_urls, callback) {\n",
       "    window._bokeh_onload_callbacks.push(callback);\n",
       "    if (window._bokeh_is_loading > 0) {\n",
       "      console.log(\"Bokeh: BokehJS is being loaded, scheduling callback at\", now());\n",
       "      return null;\n",
       "    }\n",
       "    if (js_urls == null || js_urls.length === 0) {\n",
       "      run_callbacks();\n",
       "      return null;\n",
       "    }\n",
       "    console.log(\"Bokeh: BokehJS not loaded, scheduling load and callback at\", now());\n",
       "    window._bokeh_is_loading = js_urls.length;\n",
       "    for (var i = 0; i < js_urls.length; i++) {\n",
       "      var url = js_urls[i];\n",
       "      var s = document.createElement('script');\n",
       "      s.src = url;\n",
       "      s.async = false;\n",
       "      s.onreadystatechange = s.onload = function() {\n",
       "        window._bokeh_is_loading--;\n",
       "        if (window._bokeh_is_loading === 0) {\n",
       "          console.log(\"Bokeh: all BokehJS libraries loaded\");\n",
       "          run_callbacks()\n",
       "        }\n",
       "      };\n",
       "      s.onerror = function() {\n",
       "        console.warn(\"failed to load library \" + url);\n",
       "      };\n",
       "      console.log(\"Bokeh: injecting script tag for BokehJS library: \", url);\n",
       "      document.getElementsByTagName(\"head\")[0].appendChild(s);\n",
       "    }\n",
       "  };\n",
       "\n",
       "  var js_urls = ['https://cdn.pydata.org/bokeh/release/bokeh-0.11.1.min.js', 'https://cdn.pydata.org/bokeh/release/bokeh-widgets-0.11.1.min.js', 'https://cdn.pydata.org/bokeh/release/bokeh-compiler-0.11.1.min.js'];\n",
       "\n",
       "  var inline_js = [\n",
       "    function(Bokeh) {\n",
       "      Bokeh.set_log_level(\"info\");\n",
       "    },\n",
       "    \n",
       "    function(Bokeh) {\n",
       "      Bokeh.$(\"#67afcdb8-b80c-4b06-904c-fe0587ca7820\").text(\"BokehJS successfully loaded\");\n",
       "    },\n",
       "    function(Bokeh) {\n",
       "      console.log(\"Bokeh: injecting CSS: https://cdn.pydata.org/bokeh/release/bokeh-0.11.1.min.css\");\n",
       "      Bokeh.embed.inject_css(\"https://cdn.pydata.org/bokeh/release/bokeh-0.11.1.min.css\");\n",
       "      console.log(\"Bokeh: injecting CSS: https://cdn.pydata.org/bokeh/release/bokeh-widgets-0.11.1.min.css\");\n",
       "      Bokeh.embed.inject_css(\"https://cdn.pydata.org/bokeh/release/bokeh-widgets-0.11.1.min.css\");\n",
       "    }\n",
       "  ];\n",
       "\n",
       "  function run_inline_js() {\n",
       "    for (var i = 0; i < inline_js.length; i++) {\n",
       "      inline_js[i](window.Bokeh);\n",
       "    }\n",
       "  }\n",
       "\n",
       "  if (window._bokeh_is_loading === 0) {\n",
       "    console.log(\"Bokeh: BokehJS loaded, going straight to plotting\");\n",
       "    run_inline_js();\n",
       "  } else {\n",
       "    load_libs(js_urls, function() {\n",
       "      console.log(\"Bokeh: BokehJS plotting callback run at\", now());\n",
       "      run_inline_js();\n",
       "    });\n",
       "  }\n",
       "}(this));"
      ]
     },
     "metadata": {},
     "output_type": "display_data"
    }
   ],
   "source": [
    "from gg2vec import *\n",
    "from experiment import *\n",
    "from composite_experiment import *\n",
    "output_notebook()"
   ]
  },
  {
   "cell_type": "code",
   "execution_count": 2,
   "metadata": {
    "collapsed": false,
    "scrolled": false
   },
   "outputs": [
    {
     "ename": "TypeError",
     "evalue": "__init__() takes exactly 5 arguments (3 given)",
     "output_type": "error",
     "traceback": [
      "\u001b[1;31m---------------------------------------------------------------------------\u001b[0m",
      "\u001b[1;31mTypeError\u001b[0m                                 Traceback (most recent call last)",
      "\u001b[1;32m<ipython-input-2-bcf30182512e>\u001b[0m in \u001b[0;36m<module>\u001b[1;34m()\u001b[0m\n\u001b[1;32m----> 1\u001b[1;33m \u001b[0me\u001b[0m \u001b[1;33m=\u001b[0m \u001b[0mcomposite_experiment\u001b[0m\u001b[1;33m(\u001b[0m\u001b[1;33m[\u001b[0m\u001b[1;33m[\u001b[0m\u001b[1;34m\"cine\"\u001b[0m\u001b[1;33m,\u001b[0m\u001b[1;34m\"name\"\u001b[0m\u001b[1;33m,\u001b[0m\u001b[1;34m\"TMDb\"\u001b[0m\u001b[1;33m]\u001b[0m\u001b[1;33m,\u001b[0m\u001b[1;33m[\u001b[0m\u001b[1;34m\"inmaterial\"\u001b[0m\u001b[1;33m,\u001b[0m\u001b[1;34m\"Descripcion\"\u001b[0m\u001b[1;33m,\u001b[0m\u001b[1;34m\"EICH\"\u001b[0m\u001b[1;33m]\u001b[0m\u001b[1;33m,\u001b[0m\u001b[1;33m[\u001b[0m\u001b[1;34m\"wordnet\"\u001b[0m\u001b[1;33m,\u001b[0m\u001b[1;34m\"labelw3\"\u001b[0m\u001b[1;33m,\u001b[0m\u001b[1;34m\"WordNet\"\u001b[0m\u001b[1;33m]\u001b[0m\u001b[1;33m]\u001b[0m\u001b[1;33m,\u001b[0m\u001b[1;34m\"ns\"\u001b[0m\u001b[1;33m)\u001b[0m\u001b[1;33m\u001b[0m\u001b[0m\n\u001b[0m\u001b[0;32m      2\u001b[0m \u001b[0me\u001b[0m\u001b[1;33m.\u001b[0m\u001b[0mntype_prediction\u001b[0m\u001b[1;33m(\u001b[0m\u001b[1;36m3\u001b[0m\u001b[1;33m,\u001b[0m\u001b[1;36m8\u001b[0m\u001b[1;33m,\u001b[0m\u001b[1;36m100000\u001b[0m\u001b[1;33m)\u001b[0m\u001b[1;33m\u001b[0m\u001b[0m\n\u001b[0;32m      3\u001b[0m \u001b[0mshow\u001b[0m\u001b[1;33m(\u001b[0m\u001b[0me\u001b[0m\u001b[1;33m.\u001b[0m\u001b[0mp\u001b[0m\u001b[1;33m)\u001b[0m\u001b[1;33m\u001b[0m\u001b[0m\n",
      "\u001b[1;31mTypeError\u001b[0m: __init__() takes exactly 5 arguments (3 given)"
     ]
    }
   ],
   "source": [
    "e = composite_experiment([[\"cine\",\"name\",\"TMDb\"],[\"inmaterial\",\"Descripcion\",\"EICH\"],[\"wordnet\",\"labelw3\",\"WordNet\"]],\"ns\")\n",
    "e.ntype_prediction(3,8,100000)\n",
    "show(e.p)"
   ]
  },
  {
   "cell_type": "code",
   "execution_count": 9,
   "metadata": {
    "collapsed": false
   },
   "outputs": [
    {
     "data": {
      "text/html": [
       "<script type=\"text/javascript\">\n",
       "        Bokeh.$(function() {\n",
       "        var all_models = [{\"attributes\": {\"plot\": {\"subtype\": \"Figure\", \"type\": \"Plot\", \"id\": \"7b53d7fe-4fd1-43cd-b686-f0b4fd3636fe\"}, \"tags\": [], \"doc\": null, \"id\": \"dd9e2d1e-19d7-407d-bc38-62492f84b90c\"}, \"type\": \"ResizeTool\", \"id\": \"dd9e2d1e-19d7-407d-bc38-62492f84b90c\"}, {\"attributes\": {\"plot\": {\"subtype\": \"Figure\", \"type\": \"Plot\", \"id\": \"7b53d7fe-4fd1-43cd-b686-f0b4fd3636fe\"}, \"tags\": [], \"doc\": null, \"id\": \"a2f81c56-d6ac-4b9a-ac2b-b535f65016da\"}, \"type\": \"ResetTool\", \"id\": \"a2f81c56-d6ac-4b9a-ac2b-b535f65016da\"}, {\"attributes\": {\"plot\": {\"subtype\": \"Figure\", \"type\": \"Plot\", \"id\": \"7b53d7fe-4fd1-43cd-b686-f0b4fd3636fe\"}, \"tags\": [], \"doc\": null, \"id\": \"f9bb9c51-a402-4c73-af21-b1dd516235c3\"}, \"type\": \"HelpTool\", \"id\": \"f9bb9c51-a402-4c73-af21-b1dd516235c3\"}, {\"attributes\": {\"tags\": [], \"doc\": null, \"mantissas\": [2, 5, 10], \"id\": \"8df41278-a8bb-4bab-ba81-c15462f7915a\", \"num_minor_ticks\": 5}, \"type\": \"BasicTicker\", \"id\": \"8df41278-a8bb-4bab-ba81-c15462f7915a\"}, {\"attributes\": {\"line_color\": {\"value\": \"#1f77b4\"}, \"line_width\": {\"value\": 2.0}, \"line_alpha\": {\"value\": 0.1}, \"doc\": null, \"tags\": [], \"y\": {\"field\": \"y\"}, \"x\": {\"field\": \"x\"}, \"id\": \"ecbb2943-881a-48cb-bd30-41b182c032da\"}, \"type\": \"Line\", \"id\": \"ecbb2943-881a-48cb-bd30-41b182c032da\"}, {\"attributes\": {\"plot\": {\"subtype\": \"Figure\", \"type\": \"Plot\", \"id\": \"7b53d7fe-4fd1-43cd-b686-f0b4fd3636fe\"}, \"dimensions\": [\"width\", \"height\"], \"tags\": [], \"doc\": null, \"id\": \"fe483e5c-5e69-49ee-98bf-7057da61de58\"}, \"type\": \"WheelZoomTool\", \"id\": \"fe483e5c-5e69-49ee-98bf-7057da61de58\"}, {\"attributes\": {\"nonselection_glyph\": {\"type\": \"Line\", \"id\": \"ecbb2943-881a-48cb-bd30-41b182c032da\"}, \"data_source\": {\"type\": \"ColumnDataSource\", \"id\": \"2065d7e4-f0bf-435d-be41-641d8cef5400\"}, \"tags\": [], \"doc\": null, \"selection_glyph\": null, \"id\": \"6e7245bf-8e7b-4961-88e7-ddbff440ae0f\", \"glyph\": {\"type\": \"Line\", \"id\": \"7f6caf86-6177-47bd-87ac-5082e1f18ede\"}}, \"type\": \"GlyphRenderer\", \"id\": \"6e7245bf-8e7b-4961-88e7-ddbff440ae0f\"}, {\"attributes\": {\"column_names\": [\"y\", \"x\"], \"tags\": [], \"doc\": null, \"selected\": {\"2d\": {\"indices\": []}, \"1d\": {\"indices\": []}, \"0d\": {\"indices\": [], \"flag\": false}}, \"callback\": null, \"data\": {\"y\": [0.5674019607843137, 0.49123798756359527, 0.4731471535982814, 0.6116396194739787, 0.6659230340211936, 0.6889010388190268, 0.6888412017167382, 0.7051926298157454, 0.6831168831168831, 0.703485254691689, 0.6984732824427481, 0.698781838316722], \"x\": [100000, 200000, 300000, 400000, 500000, 600000, 700000, 800000, 900000, 1000000, 1100000, 1200000]}, \"id\": \"2065d7e4-f0bf-435d-be41-641d8cef5400\"}, \"type\": \"ColumnDataSource\", \"id\": \"2065d7e4-f0bf-435d-be41-641d8cef5400\"}, {\"attributes\": {\"doc\": null, \"id\": \"c6f4f0ba-ca00-461f-9522-863dbb7fd5cc\", \"tags\": []}, \"type\": \"BasicTickFormatter\", \"id\": \"c6f4f0ba-ca00-461f-9522-863dbb7fd5cc\"}, {\"attributes\": {\"plot\": {\"subtype\": \"Figure\", \"type\": \"Plot\", \"id\": \"7b53d7fe-4fd1-43cd-b686-f0b4fd3636fe\"}, \"tags\": [], \"doc\": null, \"dimension\": 0, \"ticker\": {\"type\": \"BasicTicker\", \"id\": \"900dee46-cfa4-4f1a-b7ee-e084692d8a7c\"}, \"id\": \"70be21b6-f0c1-4c00-a005-0b8862e37854\"}, \"type\": \"Grid\", \"id\": \"70be21b6-f0c1-4c00-a005-0b8862e37854\"}, {\"attributes\": {\"plot\": {\"subtype\": \"Figure\", \"type\": \"Plot\", \"id\": \"7b53d7fe-4fd1-43cd-b686-f0b4fd3636fe\"}, \"tags\": [], \"doc\": null, \"formatter\": {\"type\": \"BasicTickFormatter\", \"id\": \"d84b789e-7c2e-4cdd-88a8-3f7487a74ae8\"}, \"ticker\": {\"type\": \"BasicTicker\", \"id\": \"8df41278-a8bb-4bab-ba81-c15462f7915a\"}, \"id\": \"4b8b5777-1821-4bb3-af8d-d30846aac069\"}, \"type\": \"LinearAxis\", \"id\": \"4b8b5777-1821-4bb3-af8d-d30846aac069\"}, {\"attributes\": {\"tags\": [], \"doc\": null, \"mantissas\": [2, 5, 10], \"id\": \"900dee46-cfa4-4f1a-b7ee-e084692d8a7c\", \"num_minor_ticks\": 5}, \"type\": \"BasicTicker\", \"id\": \"900dee46-cfa4-4f1a-b7ee-e084692d8a7c\"}, {\"attributes\": {\"plot\": {\"subtype\": \"Figure\", \"type\": \"Plot\", \"id\": \"7b53d7fe-4fd1-43cd-b686-f0b4fd3636fe\"}, \"tags\": [], \"doc\": null, \"id\": \"2aa73f0c-ed14-4e6b-82d4-c73f42d500ed\"}, \"type\": \"PreviewSaveTool\", \"id\": \"2aa73f0c-ed14-4e6b-82d4-c73f42d500ed\"}, {\"attributes\": {\"geometries\": [], \"tags\": [], \"doc\": null, \"id\": \"9ad6f5df-a3fc-47aa-a376-f1770d29ba68\"}, \"type\": \"ToolEvents\", \"id\": \"9ad6f5df-a3fc-47aa-a376-f1770d29ba68\"}, {\"attributes\": {\"tags\": [], \"doc\": null, \"renderers\": [], \"callback\": null, \"names\": [], \"id\": \"e1548262-64e1-4e24-b73f-8bfcde9dd4b1\"}, \"type\": \"DataRange1d\", \"id\": \"e1548262-64e1-4e24-b73f-8bfcde9dd4b1\"}, {\"attributes\": {\"plot\": {\"subtype\": \"Figure\", \"type\": \"Plot\", \"id\": \"7b53d7fe-4fd1-43cd-b686-f0b4fd3636fe\"}, \"tags\": [], \"doc\": null, \"dimension\": 1, \"ticker\": {\"type\": \"BasicTicker\", \"id\": \"8df41278-a8bb-4bab-ba81-c15462f7915a\"}, \"id\": \"3c6a64d6-851d-446e-ba23-087d86a5875f\"}, \"type\": \"Grid\", \"id\": \"3c6a64d6-851d-446e-ba23-087d86a5875f\"}, {\"attributes\": {\"doc\": null, \"id\": \"d84b789e-7c2e-4cdd-88a8-3f7487a74ae8\", \"tags\": []}, \"type\": \"BasicTickFormatter\", \"id\": \"d84b789e-7c2e-4cdd-88a8-3f7487a74ae8\"}, {\"attributes\": {\"line_color\": {\"value\": \"#58dc91\"}, \"line_width\": {\"value\": 2.0}, \"line_alpha\": {\"value\": 1.0}, \"doc\": null, \"tags\": [], \"y\": {\"field\": \"y\"}, \"x\": {\"field\": \"x\"}, \"id\": \"7f6caf86-6177-47bd-87ac-5082e1f18ede\"}, \"type\": \"Line\", \"id\": \"7f6caf86-6177-47bd-87ac-5082e1f18ede\"}, {\"attributes\": {\"plot\": {\"subtype\": \"Figure\", \"type\": \"Plot\", \"id\": \"7b53d7fe-4fd1-43cd-b686-f0b4fd3636fe\"}, \"dimensions\": [\"width\", \"height\"], \"tags\": [], \"doc\": null, \"id\": \"220cba1a-991f-476d-8b12-633481be3612\"}, \"type\": \"BoxZoomTool\", \"id\": \"220cba1a-991f-476d-8b12-633481be3612\"}, {\"subtype\": \"Figure\", \"type\": \"Plot\", \"id\": \"7b53d7fe-4fd1-43cd-b686-f0b4fd3636fe\", \"attributes\": {\"x_range\": {\"type\": \"DataRange1d\", \"id\": \"27b6d069-2bcf-4487-bb31-e15931125b06\"}, \"right\": [], \"tags\": [], \"tools\": [{\"type\": \"PanTool\", \"id\": \"a35536be-0673-4b8f-98ee-c026844c9207\"}, {\"type\": \"WheelZoomTool\", \"id\": \"fe483e5c-5e69-49ee-98bf-7057da61de58\"}, {\"type\": \"BoxZoomTool\", \"id\": \"220cba1a-991f-476d-8b12-633481be3612\"}, {\"type\": \"PreviewSaveTool\", \"id\": \"2aa73f0c-ed14-4e6b-82d4-c73f42d500ed\"}, {\"type\": \"ResizeTool\", \"id\": \"dd9e2d1e-19d7-407d-bc38-62492f84b90c\"}, {\"type\": \"ResetTool\", \"id\": \"a2f81c56-d6ac-4b9a-ac2b-b535f65016da\"}, {\"type\": \"HelpTool\", \"id\": \"f9bb9c51-a402-4c73-af21-b1dd516235c3\"}], \"extra_y_ranges\": {}, \"plot_width\": 1000, \"renderers\": [{\"type\": \"LinearAxis\", \"id\": \"149dad13-520a-4781-b810-63c269bba2f0\"}, {\"type\": \"Grid\", \"id\": \"70be21b6-f0c1-4c00-a005-0b8862e37854\"}, {\"type\": \"LinearAxis\", \"id\": \"4b8b5777-1821-4bb3-af8d-d30846aac069\"}, {\"type\": \"Grid\", \"id\": \"3c6a64d6-851d-446e-ba23-087d86a5875f\"}, {\"type\": \"Legend\", \"id\": \"4de874bd-9473-40e9-b8dc-14e9c252e703\"}, {\"type\": \"GlyphRenderer\", \"id\": \"6e7245bf-8e7b-4961-88e7-ddbff440ae0f\"}], \"extra_x_ranges\": {}, \"plot_height\": 600, \"tool_events\": {\"type\": \"ToolEvents\", \"id\": \"9ad6f5df-a3fc-47aa-a376-f1770d29ba68\"}, \"above\": [], \"doc\": null, \"id\": \"7b53d7fe-4fd1-43cd-b686-f0b4fd3636fe\", \"y_range\": {\"type\": \"DataRange1d\", \"id\": \"e1548262-64e1-4e24-b73f-8bfcde9dd4b1\"}, \"below\": [{\"type\": \"LinearAxis\", \"id\": \"149dad13-520a-4781-b810-63c269bba2f0\"}], \"left\": [{\"type\": \"LinearAxis\", \"id\": \"4b8b5777-1821-4bb3-af8d-d30846aac069\"}]}}, {\"attributes\": {\"background_fill_alpha\": {\"value\": 0.5}, \"plot\": {\"subtype\": \"Figure\", \"type\": \"Plot\", \"id\": \"7b53d7fe-4fd1-43cd-b686-f0b4fd3636fe\"}, \"legends\": [[\"TMDb\", [{\"type\": \"GlyphRenderer\", \"id\": \"6e7245bf-8e7b-4961-88e7-ddbff440ae0f\"}]]], \"tags\": [], \"doc\": null, \"id\": \"4de874bd-9473-40e9-b8dc-14e9c252e703\"}, \"type\": \"Legend\", \"id\": \"4de874bd-9473-40e9-b8dc-14e9c252e703\"}, {\"attributes\": {\"tags\": [], \"doc\": null, \"renderers\": [], \"callback\": null, \"names\": [], \"id\": \"27b6d069-2bcf-4487-bb31-e15931125b06\"}, \"type\": \"DataRange1d\", \"id\": \"27b6d069-2bcf-4487-bb31-e15931125b06\"}, {\"attributes\": {\"plot\": {\"subtype\": \"Figure\", \"type\": \"Plot\", \"id\": \"7b53d7fe-4fd1-43cd-b686-f0b4fd3636fe\"}, \"tags\": [], \"doc\": null, \"formatter\": {\"type\": \"BasicTickFormatter\", \"id\": \"c6f4f0ba-ca00-461f-9522-863dbb7fd5cc\"}, \"ticker\": {\"type\": \"BasicTicker\", \"id\": \"900dee46-cfa4-4f1a-b7ee-e084692d8a7c\"}, \"id\": \"149dad13-520a-4781-b810-63c269bba2f0\"}, \"type\": \"LinearAxis\", \"id\": \"149dad13-520a-4781-b810-63c269bba2f0\"}, {\"attributes\": {\"plot\": {\"subtype\": \"Figure\", \"type\": \"Plot\", \"id\": \"7b53d7fe-4fd1-43cd-b686-f0b4fd3636fe\"}, \"dimensions\": [\"width\", \"height\"], \"tags\": [], \"doc\": null, \"id\": \"a35536be-0673-4b8f-98ee-c026844c9207\"}, \"type\": \"PanTool\", \"id\": \"a35536be-0673-4b8f-98ee-c026844c9207\"}];\n",
       "        Bokeh.load_models(all_models);\n",
       "        var plots = [{'modeltype': 'Plot', 'elementid': 'c73ef72e-4057-442d-94b9-8e053ba31c54', 'modelid': '7b53d7fe-4fd1-43cd-b686-f0b4fd3636fe'}];\n",
       "        for (idx in plots) {\n",
       "        \tvar plot = plots[idx];\n",
       "        \tvar model = Bokeh.Collections(plot.modeltype).get(plot.modelid);\n",
       "        \tBokeh.logger.info('Realizing plot:')\n",
       "        \tBokeh.logger.info(' - modeltype: ' + plot.modeltype);\n",
       "        \tBokeh.logger.info(' - modelid: ' + plot.modelid);\n",
       "        \tBokeh.logger.info(' - elementid: ' + plot.elementid);\n",
       "        \tvar view = new model.default_view({\n",
       "        \t\tmodel: model,\n",
       "        \t\tel: '#' + plot.elementid\n",
       "        \t});\n",
       "        \tBokeh.index[plot.modelid] = view;\n",
       "        }\n",
       "    });\n",
       "    </script>\n",
       "<div class=\"plotdiv\" id=\"c73ef72e-4057-442d-94b9-8e053ba31c54\"></div>\n",
       "\n"
      ]
     },
     "metadata": {},
     "output_type": "display_data"
    }
   ],
   "source": [
    "e = composite_experiment([[\"cine\",\"name\",\"TMDb\"]],\"ns\")\n",
    "e.ntype_prediction(1,12,100000)\n",
    "show(e.p)"
   ]
  },
  {
   "cell_type": "code",
   "execution_count": 11,
   "metadata": {
    "collapsed": false,
    "scrolled": false
   },
   "outputs": [
    {
     "data": {
      "text/html": [
       "<script type=\"text/javascript\">\n",
       "        Bokeh.$(function() {\n",
       "        var all_models = [{\"subtype\": \"Figure\", \"type\": \"Plot\", \"id\": \"0df0290d-38b2-4020-a10a-f3c7e059293b\", \"attributes\": {\"x_range\": {\"type\": \"DataRange1d\", \"id\": \"ee6919f9-9b9e-41db-8601-b285bfc6ab33\"}, \"right\": [], \"tags\": [], \"tools\": [{\"type\": \"PanTool\", \"id\": \"b1b9cf26-2e04-445d-93ad-7ec163de94ae\"}, {\"type\": \"WheelZoomTool\", \"id\": \"a11be10b-f264-4284-9062-78d4967a04e0\"}, {\"type\": \"BoxZoomTool\", \"id\": \"50bd1351-cd92-4069-81da-6abca93e152d\"}, {\"type\": \"PreviewSaveTool\", \"id\": \"e3569d27-88e1-4005-b6a4-87e7477b797d\"}, {\"type\": \"ResizeTool\", \"id\": \"2335b3e3-5630-4e2b-9473-883456fd328a\"}, {\"type\": \"ResetTool\", \"id\": \"f7296762-30a7-4030-8ef8-bf92117a6ee7\"}, {\"type\": \"HelpTool\", \"id\": \"d4730423-ad91-4a19-8324-d123e5ad6871\"}], \"extra_y_ranges\": {}, \"plot_width\": 1000, \"renderers\": [{\"type\": \"LinearAxis\", \"id\": \"ce85750c-f7fe-4961-9349-33ed0b10c095\"}, {\"type\": \"Grid\", \"id\": \"a66c857d-0d3c-4b73-9361-7734df57cddc\"}, {\"type\": \"LinearAxis\", \"id\": \"4c2f5a30-7ab4-433a-8dff-e9e1c4b82aaf\"}, {\"type\": \"Grid\", \"id\": \"6c64e011-300d-4997-bb72-ba4f36a5eecb\"}, {\"type\": \"Legend\", \"id\": \"a8decd18-a014-4d07-ba6a-64596cec24a6\"}, {\"type\": \"GlyphRenderer\", \"id\": \"d944f010-1e7c-4282-b394-17b99d4fed0e\"}], \"extra_x_ranges\": {}, \"plot_height\": 600, \"tool_events\": {\"type\": \"ToolEvents\", \"id\": \"8eb9c5ce-aee3-4959-8217-f1cbbcbea4c8\"}, \"above\": [], \"doc\": null, \"id\": \"0df0290d-38b2-4020-a10a-f3c7e059293b\", \"y_range\": {\"type\": \"DataRange1d\", \"id\": \"56521371-52c7-45bf-87ce-f687a0099162\"}, \"below\": [{\"type\": \"LinearAxis\", \"id\": \"ce85750c-f7fe-4961-9349-33ed0b10c095\"}], \"left\": [{\"type\": \"LinearAxis\", \"id\": \"4c2f5a30-7ab4-433a-8dff-e9e1c4b82aaf\"}]}}, {\"attributes\": {\"line_color\": {\"value\": \"#1f77b4\"}, \"line_width\": {\"value\": 2.0}, \"line_alpha\": {\"value\": 0.1}, \"doc\": null, \"tags\": [], \"y\": {\"field\": \"y\"}, \"x\": {\"field\": \"x\"}, \"id\": \"aa445669-f88f-4259-a523-23e652fb46de\"}, \"type\": \"Line\", \"id\": \"aa445669-f88f-4259-a523-23e652fb46de\"}, {\"attributes\": {\"doc\": null, \"id\": \"e22f063d-2dea-4b15-9187-489229f1cd40\", \"tags\": []}, \"type\": \"BasicTickFormatter\", \"id\": \"e22f063d-2dea-4b15-9187-489229f1cd40\"}, {\"attributes\": {\"plot\": {\"subtype\": \"Figure\", \"type\": \"Plot\", \"id\": \"0df0290d-38b2-4020-a10a-f3c7e059293b\"}, \"tags\": [], \"doc\": null, \"dimension\": 1, \"ticker\": {\"type\": \"BasicTicker\", \"id\": \"2c1af076-3feb-41fa-abfa-e8a1bf10aa40\"}, \"id\": \"6c64e011-300d-4997-bb72-ba4f36a5eecb\"}, \"type\": \"Grid\", \"id\": \"6c64e011-300d-4997-bb72-ba4f36a5eecb\"}, {\"attributes\": {\"plot\": {\"subtype\": \"Figure\", \"type\": \"Plot\", \"id\": \"0df0290d-38b2-4020-a10a-f3c7e059293b\"}, \"tags\": [], \"doc\": null, \"id\": \"d4730423-ad91-4a19-8324-d123e5ad6871\"}, \"type\": \"HelpTool\", \"id\": \"d4730423-ad91-4a19-8324-d123e5ad6871\"}, {\"attributes\": {\"plot\": {\"subtype\": \"Figure\", \"type\": \"Plot\", \"id\": \"0df0290d-38b2-4020-a10a-f3c7e059293b\"}, \"tags\": [], \"doc\": null, \"id\": \"f7296762-30a7-4030-8ef8-bf92117a6ee7\"}, \"type\": \"ResetTool\", \"id\": \"f7296762-30a7-4030-8ef8-bf92117a6ee7\"}, {\"attributes\": {\"plot\": {\"subtype\": \"Figure\", \"type\": \"Plot\", \"id\": \"0df0290d-38b2-4020-a10a-f3c7e059293b\"}, \"tags\": [], \"doc\": null, \"id\": \"2335b3e3-5630-4e2b-9473-883456fd328a\"}, \"type\": \"ResizeTool\", \"id\": \"2335b3e3-5630-4e2b-9473-883456fd328a\"}, {\"attributes\": {\"plot\": {\"subtype\": \"Figure\", \"type\": \"Plot\", \"id\": \"0df0290d-38b2-4020-a10a-f3c7e059293b\"}, \"tags\": [], \"doc\": null, \"id\": \"e3569d27-88e1-4005-b6a4-87e7477b797d\"}, \"type\": \"PreviewSaveTool\", \"id\": \"e3569d27-88e1-4005-b6a4-87e7477b797d\"}, {\"attributes\": {\"tags\": [], \"doc\": null, \"mantissas\": [2, 5, 10], \"id\": \"2c1af076-3feb-41fa-abfa-e8a1bf10aa40\", \"num_minor_ticks\": 5}, \"type\": \"BasicTicker\", \"id\": \"2c1af076-3feb-41fa-abfa-e8a1bf10aa40\"}, {\"attributes\": {\"plot\": {\"subtype\": \"Figure\", \"type\": \"Plot\", \"id\": \"0df0290d-38b2-4020-a10a-f3c7e059293b\"}, \"dimensions\": [\"width\", \"height\"], \"tags\": [], \"doc\": null, \"id\": \"50bd1351-cd92-4069-81da-6abca93e152d\"}, \"type\": \"BoxZoomTool\", \"id\": \"50bd1351-cd92-4069-81da-6abca93e152d\"}, {\"attributes\": {\"plot\": {\"subtype\": \"Figure\", \"type\": \"Plot\", \"id\": \"0df0290d-38b2-4020-a10a-f3c7e059293b\"}, \"dimensions\": [\"width\", \"height\"], \"tags\": [], \"doc\": null, \"id\": \"a11be10b-f264-4284-9062-78d4967a04e0\"}, \"type\": \"WheelZoomTool\", \"id\": \"a11be10b-f264-4284-9062-78d4967a04e0\"}, {\"attributes\": {\"plot\": {\"subtype\": \"Figure\", \"type\": \"Plot\", \"id\": \"0df0290d-38b2-4020-a10a-f3c7e059293b\"}, \"dimensions\": [\"width\", \"height\"], \"tags\": [], \"doc\": null, \"id\": \"b1b9cf26-2e04-445d-93ad-7ec163de94ae\"}, \"type\": \"PanTool\", \"id\": \"b1b9cf26-2e04-445d-93ad-7ec163de94ae\"}, {\"attributes\": {\"geometries\": [], \"tags\": [], \"doc\": null, \"id\": \"8eb9c5ce-aee3-4959-8217-f1cbbcbea4c8\"}, \"type\": \"ToolEvents\", \"id\": \"8eb9c5ce-aee3-4959-8217-f1cbbcbea4c8\"}, {\"attributes\": {\"plot\": {\"subtype\": \"Figure\", \"type\": \"Plot\", \"id\": \"0df0290d-38b2-4020-a10a-f3c7e059293b\"}, \"tags\": [], \"doc\": null, \"dimension\": 0, \"ticker\": {\"type\": \"BasicTicker\", \"id\": \"4500e237-3692-48b1-8278-303e8163a35b\"}, \"id\": \"a66c857d-0d3c-4b73-9361-7734df57cddc\"}, \"type\": \"Grid\", \"id\": \"a66c857d-0d3c-4b73-9361-7734df57cddc\"}, {\"attributes\": {\"doc\": null, \"id\": \"ad1bf711-8e6c-4823-b6fd-848c0441b40b\", \"tags\": []}, \"type\": \"BasicTickFormatter\", \"id\": \"ad1bf711-8e6c-4823-b6fd-848c0441b40b\"}, {\"attributes\": {\"tags\": [], \"doc\": null, \"mantissas\": [2, 5, 10], \"id\": \"4500e237-3692-48b1-8278-303e8163a35b\", \"num_minor_ticks\": 5}, \"type\": \"BasicTicker\", \"id\": \"4500e237-3692-48b1-8278-303e8163a35b\"}, {\"attributes\": {\"tags\": [], \"doc\": null, \"renderers\": [], \"callback\": null, \"names\": [], \"id\": \"56521371-52c7-45bf-87ce-f687a0099162\"}, \"type\": \"DataRange1d\", \"id\": \"56521371-52c7-45bf-87ce-f687a0099162\"}, {\"attributes\": {\"column_names\": [\"y\", \"x\"], \"tags\": [], \"doc\": null, \"selected\": {\"2d\": {\"indices\": []}, \"1d\": {\"indices\": []}, \"0d\": {\"indices\": [], \"flag\": false}}, \"callback\": null, \"data\": {\"y\": [0.6893732970027248, 0.6857938718662953, 0.6920618007458711, 0.7068870523415978, 0.7126005361930295, 0.7237837837837838, 0.7048030221262817, 0.714210802307289, 0.7139051678209909, 0.707027027027027, 0.7048630519843488, 0.70874861572536, 0.7091503267973857, 0.7047223663725999, 0.7251619870410367, 0.6957245974458635, 0.7021161150298426, 0.6957700650759219, 0.7245643620011242, 0.7185466377440347, 0.7161500815660685, 0.7077991452991453, 0.7199148029818956, 0.7329424307036247, 0.7108369098712446, 0.7167381974248928, 0.7130242825607064, 0.6947141316073355, 0.6955810147299509, 0.7023872679045093, 0.7020915771622386, 0.7102702702702702], \"x\": [10, 20, 30, 40, 50, 60, 70, 80, 90, 100, 110, 120, 130, 140, 150, 160, 170, 180, 190, 200, 210, 220, 230, 240, 250, 260, 270, 280, 290, 300, 310, 320]}, \"id\": \"4a5370d0-0ebf-4f33-a0b4-c555719802b0\"}, \"type\": \"ColumnDataSource\", \"id\": \"4a5370d0-0ebf-4f33-a0b4-c555719802b0\"}, {\"attributes\": {\"nonselection_glyph\": {\"type\": \"Line\", \"id\": \"aa445669-f88f-4259-a523-23e652fb46de\"}, \"data_source\": {\"type\": \"ColumnDataSource\", \"id\": \"4a5370d0-0ebf-4f33-a0b4-c555719802b0\"}, \"tags\": [], \"doc\": null, \"selection_glyph\": null, \"id\": \"d944f010-1e7c-4282-b394-17b99d4fed0e\", \"glyph\": {\"type\": \"Line\", \"id\": \"d529542f-5c8c-4826-bf83-74ded3a583e9\"}}, \"type\": \"GlyphRenderer\", \"id\": \"d944f010-1e7c-4282-b394-17b99d4fed0e\"}, {\"attributes\": {\"background_fill_alpha\": {\"value\": 0.5}, \"plot\": {\"subtype\": \"Figure\", \"type\": \"Plot\", \"id\": \"0df0290d-38b2-4020-a10a-f3c7e059293b\"}, \"legends\": [[\"TMDb\", [{\"type\": \"GlyphRenderer\", \"id\": \"d944f010-1e7c-4282-b394-17b99d4fed0e\"}]]], \"tags\": [], \"doc\": null, \"id\": \"a8decd18-a014-4d07-ba6a-64596cec24a6\"}, \"type\": \"Legend\", \"id\": \"a8decd18-a014-4d07-ba6a-64596cec24a6\"}, {\"attributes\": {\"plot\": {\"subtype\": \"Figure\", \"type\": \"Plot\", \"id\": \"0df0290d-38b2-4020-a10a-f3c7e059293b\"}, \"tags\": [], \"doc\": null, \"formatter\": {\"type\": \"BasicTickFormatter\", \"id\": \"ad1bf711-8e6c-4823-b6fd-848c0441b40b\"}, \"ticker\": {\"type\": \"BasicTicker\", \"id\": \"2c1af076-3feb-41fa-abfa-e8a1bf10aa40\"}, \"id\": \"4c2f5a30-7ab4-433a-8dff-e9e1c4b82aaf\"}, \"type\": \"LinearAxis\", \"id\": \"4c2f5a30-7ab4-433a-8dff-e9e1c4b82aaf\"}, {\"attributes\": {\"line_color\": {\"value\": \"#58dc91\"}, \"line_width\": {\"value\": 2.0}, \"line_alpha\": {\"value\": 1.0}, \"doc\": null, \"tags\": [], \"y\": {\"field\": \"y\"}, \"x\": {\"field\": \"x\"}, \"id\": \"d529542f-5c8c-4826-bf83-74ded3a583e9\"}, \"type\": \"Line\", \"id\": \"d529542f-5c8c-4826-bf83-74ded3a583e9\"}, {\"attributes\": {\"plot\": {\"subtype\": \"Figure\", \"type\": \"Plot\", \"id\": \"0df0290d-38b2-4020-a10a-f3c7e059293b\"}, \"tags\": [], \"doc\": null, \"formatter\": {\"type\": \"BasicTickFormatter\", \"id\": \"e22f063d-2dea-4b15-9187-489229f1cd40\"}, \"ticker\": {\"type\": \"BasicTicker\", \"id\": \"4500e237-3692-48b1-8278-303e8163a35b\"}, \"id\": \"ce85750c-f7fe-4961-9349-33ed0b10c095\"}, \"type\": \"LinearAxis\", \"id\": \"ce85750c-f7fe-4961-9349-33ed0b10c095\"}, {\"attributes\": {\"tags\": [], \"doc\": null, \"renderers\": [], \"callback\": null, \"names\": [], \"id\": \"ee6919f9-9b9e-41db-8601-b285bfc6ab33\"}, \"type\": \"DataRange1d\", \"id\": \"ee6919f9-9b9e-41db-8601-b285bfc6ab33\"}];\n",
       "        Bokeh.load_models(all_models);\n",
       "        var plots = [{'modeltype': 'Plot', 'elementid': 'c3feca6b-b92d-419a-999f-514aa1963801', 'modelid': '0df0290d-38b2-4020-a10a-f3c7e059293b'}];\n",
       "        for (idx in plots) {\n",
       "        \tvar plot = plots[idx];\n",
       "        \tvar model = Bokeh.Collections(plot.modeltype).get(plot.modelid);\n",
       "        \tBokeh.logger.info('Realizing plot:')\n",
       "        \tBokeh.logger.info(' - modeltype: ' + plot.modeltype);\n",
       "        \tBokeh.logger.info(' - modelid: ' + plot.modelid);\n",
       "        \tBokeh.logger.info(' - elementid: ' + plot.elementid);\n",
       "        \tvar view = new model.default_view({\n",
       "        \t\tmodel: model,\n",
       "        \t\tel: '#' + plot.elementid\n",
       "        \t});\n",
       "        \tBokeh.index[plot.modelid] = view;\n",
       "        }\n",
       "    });\n",
       "    </script>\n",
       "<div class=\"plotdiv\" id=\"c3feca6b-b92d-419a-999f-514aa1963801\"></div>\n",
       "\n"
      ]
     },
     "metadata": {},
     "output_type": "display_data"
    }
   ],
   "source": [
    "e = composite_experiment([[\"cine\",\"name\",\"TMDb\"]],\"ndim\")\n",
    "e.ntype_prediction(1,32,10)\n",
    "show(e.p)"
   ]
  },
  {
   "cell_type": "code",
   "execution_count": 13,
   "metadata": {
    "collapsed": false
   },
   "outputs": [
    {
     "data": {
      "text/html": [
       "<script type=\"text/javascript\">\n",
       "        Bokeh.$(function() {\n",
       "        var all_models = [{\"attributes\": {\"plot\": {\"subtype\": \"Figure\", \"type\": \"Plot\", \"id\": \"80c10aa3-515a-408b-9313-61fe89408acf\"}, \"dimensions\": [\"width\", \"height\"], \"tags\": [], \"doc\": null, \"id\": \"45825e60-3d60-42f5-9643-509f93bf5517\"}, \"type\": \"PanTool\", \"id\": \"45825e60-3d60-42f5-9643-509f93bf5517\"}, {\"attributes\": {\"plot\": {\"subtype\": \"Figure\", \"type\": \"Plot\", \"id\": \"80c10aa3-515a-408b-9313-61fe89408acf\"}, \"tags\": [], \"doc\": null, \"dimension\": 0, \"ticker\": {\"type\": \"BasicTicker\", \"id\": \"c5cdca05-125f-447c-a6c0-39d89d362a71\"}, \"id\": \"fe021e80-e818-4313-8d8a-3acedc258141\"}, \"type\": \"Grid\", \"id\": \"fe021e80-e818-4313-8d8a-3acedc258141\"}, {\"attributes\": {\"geometries\": [], \"tags\": [], \"doc\": null, \"id\": \"fdce0a88-f42a-44e1-90bc-96704841b8da\"}, \"type\": \"ToolEvents\", \"id\": \"fdce0a88-f42a-44e1-90bc-96704841b8da\"}, {\"attributes\": {\"plot\": {\"subtype\": \"Figure\", \"type\": \"Plot\", \"id\": \"80c10aa3-515a-408b-9313-61fe89408acf\"}, \"tags\": [], \"doc\": null, \"id\": \"0957e23d-99c0-4005-91b8-7a98388aa7ae\"}, \"type\": \"ResizeTool\", \"id\": \"0957e23d-99c0-4005-91b8-7a98388aa7ae\"}, {\"attributes\": {\"plot\": {\"subtype\": \"Figure\", \"type\": \"Plot\", \"id\": \"80c10aa3-515a-408b-9313-61fe89408acf\"}, \"tags\": [], \"doc\": null, \"id\": \"82ea2bed-0e56-4d54-a857-93ff9dcb1da5\"}, \"type\": \"ResetTool\", \"id\": \"82ea2bed-0e56-4d54-a857-93ff9dcb1da5\"}, {\"attributes\": {\"plot\": {\"subtype\": \"Figure\", \"type\": \"Plot\", \"id\": \"80c10aa3-515a-408b-9313-61fe89408acf\"}, \"tags\": [], \"doc\": null, \"id\": \"2352ed56-e44e-4cd2-b421-3f91c1ee7075\"}, \"type\": \"HelpTool\", \"id\": \"2352ed56-e44e-4cd2-b421-3f91c1ee7075\"}, {\"attributes\": {\"plot\": {\"subtype\": \"Figure\", \"type\": \"Plot\", \"id\": \"80c10aa3-515a-408b-9313-61fe89408acf\"}, \"dimensions\": [\"width\", \"height\"], \"tags\": [], \"doc\": null, \"id\": \"a47f4248-1578-4f5c-bdc7-807caacc92cb\"}, \"type\": \"WheelZoomTool\", \"id\": \"a47f4248-1578-4f5c-bdc7-807caacc92cb\"}, {\"attributes\": {\"plot\": {\"subtype\": \"Figure\", \"type\": \"Plot\", \"id\": \"80c10aa3-515a-408b-9313-61fe89408acf\"}, \"dimensions\": [\"width\", \"height\"], \"tags\": [], \"doc\": null, \"id\": \"3c4adc9c-d9dc-4a7a-81a5-a5ad9cc570e9\"}, \"type\": \"BoxZoomTool\", \"id\": \"3c4adc9c-d9dc-4a7a-81a5-a5ad9cc570e9\"}, {\"subtype\": \"Figure\", \"type\": \"Plot\", \"id\": \"80c10aa3-515a-408b-9313-61fe89408acf\", \"attributes\": {\"x_range\": {\"type\": \"DataRange1d\", \"id\": \"2e3ea300-d100-4ea4-abbc-860d618497f7\"}, \"right\": [], \"tags\": [], \"tools\": [{\"type\": \"PanTool\", \"id\": \"45825e60-3d60-42f5-9643-509f93bf5517\"}, {\"type\": \"WheelZoomTool\", \"id\": \"a47f4248-1578-4f5c-bdc7-807caacc92cb\"}, {\"type\": \"BoxZoomTool\", \"id\": \"3c4adc9c-d9dc-4a7a-81a5-a5ad9cc570e9\"}, {\"type\": \"PreviewSaveTool\", \"id\": \"5067da2e-a6f1-4b7b-a48d-045f53bd6b5f\"}, {\"type\": \"ResizeTool\", \"id\": \"0957e23d-99c0-4005-91b8-7a98388aa7ae\"}, {\"type\": \"ResetTool\", \"id\": \"82ea2bed-0e56-4d54-a857-93ff9dcb1da5\"}, {\"type\": \"HelpTool\", \"id\": \"2352ed56-e44e-4cd2-b421-3f91c1ee7075\"}], \"extra_y_ranges\": {}, \"plot_width\": 1000, \"renderers\": [{\"type\": \"LinearAxis\", \"id\": \"bfac5c41-57af-4190-9cd5-b63703cba2ab\"}, {\"type\": \"Grid\", \"id\": \"fe021e80-e818-4313-8d8a-3acedc258141\"}, {\"type\": \"LinearAxis\", \"id\": \"9a532db6-6ba4-495e-98cc-fc3a19934a7e\"}, {\"type\": \"Grid\", \"id\": \"145634bc-7d12-4d23-8ecd-105955e78a57\"}, {\"type\": \"Legend\", \"id\": \"90d1580d-64e0-4423-a846-a6d621ca0f13\"}, {\"type\": \"GlyphRenderer\", \"id\": \"e99e03da-dedd-4a28-96a2-2f0049eae9f0\"}], \"extra_x_ranges\": {}, \"plot_height\": 600, \"tool_events\": {\"type\": \"ToolEvents\", \"id\": \"fdce0a88-f42a-44e1-90bc-96704841b8da\"}, \"above\": [], \"doc\": null, \"id\": \"80c10aa3-515a-408b-9313-61fe89408acf\", \"y_range\": {\"type\": \"DataRange1d\", \"id\": \"98fa3a9c-e063-4cc3-8bd4-cee59f0de0b9\"}, \"below\": [{\"type\": \"LinearAxis\", \"id\": \"bfac5c41-57af-4190-9cd5-b63703cba2ab\"}], \"left\": [{\"type\": \"LinearAxis\", \"id\": \"9a532db6-6ba4-495e-98cc-fc3a19934a7e\"}]}}, {\"attributes\": {\"plot\": {\"subtype\": \"Figure\", \"type\": \"Plot\", \"id\": \"80c10aa3-515a-408b-9313-61fe89408acf\"}, \"tags\": [], \"doc\": null, \"id\": \"5067da2e-a6f1-4b7b-a48d-045f53bd6b5f\"}, \"type\": \"PreviewSaveTool\", \"id\": \"5067da2e-a6f1-4b7b-a48d-045f53bd6b5f\"}, {\"attributes\": {\"line_color\": {\"value\": \"#58dc91\"}, \"line_width\": {\"value\": 2.0}, \"line_alpha\": {\"value\": 1.0}, \"doc\": null, \"tags\": [], \"y\": {\"field\": \"y\"}, \"x\": {\"field\": \"x\"}, \"id\": \"8aaf7b89-cfb7-429c-926c-ec39a8ca6ae3\"}, \"type\": \"Line\", \"id\": \"8aaf7b89-cfb7-429c-926c-ec39a8ca6ae3\"}, {\"attributes\": {\"plot\": {\"subtype\": \"Figure\", \"type\": \"Plot\", \"id\": \"80c10aa3-515a-408b-9313-61fe89408acf\"}, \"tags\": [], \"doc\": null, \"dimension\": 1, \"ticker\": {\"type\": \"BasicTicker\", \"id\": \"b1a8147e-85ef-4d86-aa69-7d72b2fb36ce\"}, \"id\": \"145634bc-7d12-4d23-8ecd-105955e78a57\"}, \"type\": \"Grid\", \"id\": \"145634bc-7d12-4d23-8ecd-105955e78a57\"}, {\"attributes\": {\"plot\": {\"subtype\": \"Figure\", \"type\": \"Plot\", \"id\": \"80c10aa3-515a-408b-9313-61fe89408acf\"}, \"tags\": [], \"doc\": null, \"formatter\": {\"type\": \"BasicTickFormatter\", \"id\": \"2d43efbc-f344-462d-a843-d3aa6a50f865\"}, \"ticker\": {\"type\": \"BasicTicker\", \"id\": \"c5cdca05-125f-447c-a6c0-39d89d362a71\"}, \"id\": \"bfac5c41-57af-4190-9cd5-b63703cba2ab\"}, \"type\": \"LinearAxis\", \"id\": \"bfac5c41-57af-4190-9cd5-b63703cba2ab\"}, {\"attributes\": {\"doc\": null, \"id\": \"34b52cc3-ce41-42f6-abcc-a397d7304357\", \"tags\": []}, \"type\": \"BasicTickFormatter\", \"id\": \"34b52cc3-ce41-42f6-abcc-a397d7304357\"}, {\"attributes\": {\"plot\": {\"subtype\": \"Figure\", \"type\": \"Plot\", \"id\": \"80c10aa3-515a-408b-9313-61fe89408acf\"}, \"tags\": [], \"doc\": null, \"formatter\": {\"type\": \"BasicTickFormatter\", \"id\": \"34b52cc3-ce41-42f6-abcc-a397d7304357\"}, \"ticker\": {\"type\": \"BasicTicker\", \"id\": \"b1a8147e-85ef-4d86-aa69-7d72b2fb36ce\"}, \"id\": \"9a532db6-6ba4-495e-98cc-fc3a19934a7e\"}, \"type\": \"LinearAxis\", \"id\": \"9a532db6-6ba4-495e-98cc-fc3a19934a7e\"}, {\"attributes\": {\"tags\": [], \"doc\": null, \"mantissas\": [2, 5, 10], \"id\": \"b1a8147e-85ef-4d86-aa69-7d72b2fb36ce\", \"num_minor_ticks\": 5}, \"type\": \"BasicTicker\", \"id\": \"b1a8147e-85ef-4d86-aa69-7d72b2fb36ce\"}, {\"attributes\": {\"column_names\": [\"y\", \"x\"], \"tags\": [], \"doc\": null, \"selected\": {\"2d\": {\"indices\": []}, \"1d\": {\"indices\": []}, \"0d\": {\"indices\": [], \"flag\": false}}, \"callback\": null, \"data\": {\"y\": [0.648424543946932, 0.6929303831624393, 0.7212581344902386, 0.7115987460815048, 0.7165520888418826, 0.7246455834242094, 0.7075991189427313, 0.6996374935266702, 0.7132435465768799, 0.7152385838891739, 0.714902807775378, 0.7133689839572193, 0.7129424778761062, 0.7229178007621121, 0.7010422380691168, 0.7242472266244057, 0.7086956521739131, 0.7025697102241663, 0.6888283378746594, 0.7058823529411765], \"x\": [1, 2, 3, 4, 5, 6, 7, 8, 9, 10, 11, 12, 13, 14, 15, 16, 17, 18, 19, 20]}, \"id\": \"af144401-2632-4be9-83cd-82566ffc9038\"}, \"type\": \"ColumnDataSource\", \"id\": \"af144401-2632-4be9-83cd-82566ffc9038\"}, {\"attributes\": {\"line_color\": {\"value\": \"#1f77b4\"}, \"line_width\": {\"value\": 2.0}, \"line_alpha\": {\"value\": 0.1}, \"doc\": null, \"tags\": [], \"y\": {\"field\": \"y\"}, \"x\": {\"field\": \"x\"}, \"id\": \"3d2c0ce6-474c-40e2-9b46-4d0282580b6d\"}, \"type\": \"Line\", \"id\": \"3d2c0ce6-474c-40e2-9b46-4d0282580b6d\"}, {\"attributes\": {\"nonselection_glyph\": {\"type\": \"Line\", \"id\": \"3d2c0ce6-474c-40e2-9b46-4d0282580b6d\"}, \"data_source\": {\"type\": \"ColumnDataSource\", \"id\": \"af144401-2632-4be9-83cd-82566ffc9038\"}, \"tags\": [], \"doc\": null, \"selection_glyph\": null, \"id\": \"e99e03da-dedd-4a28-96a2-2f0049eae9f0\", \"glyph\": {\"type\": \"Line\", \"id\": \"8aaf7b89-cfb7-429c-926c-ec39a8ca6ae3\"}}, \"type\": \"GlyphRenderer\", \"id\": \"e99e03da-dedd-4a28-96a2-2f0049eae9f0\"}, {\"attributes\": {\"doc\": null, \"id\": \"2d43efbc-f344-462d-a843-d3aa6a50f865\", \"tags\": []}, \"type\": \"BasicTickFormatter\", \"id\": \"2d43efbc-f344-462d-a843-d3aa6a50f865\"}, {\"attributes\": {\"background_fill_alpha\": {\"value\": 0.5}, \"plot\": {\"subtype\": \"Figure\", \"type\": \"Plot\", \"id\": \"80c10aa3-515a-408b-9313-61fe89408acf\"}, \"legends\": [[\"TMDb\", [{\"type\": \"GlyphRenderer\", \"id\": \"e99e03da-dedd-4a28-96a2-2f0049eae9f0\"}]]], \"tags\": [], \"doc\": null, \"id\": \"90d1580d-64e0-4423-a846-a6d621ca0f13\"}, \"type\": \"Legend\", \"id\": \"90d1580d-64e0-4423-a846-a6d621ca0f13\"}, {\"attributes\": {\"tags\": [], \"doc\": null, \"renderers\": [], \"callback\": null, \"names\": [], \"id\": \"2e3ea300-d100-4ea4-abbc-860d618497f7\"}, \"type\": \"DataRange1d\", \"id\": \"2e3ea300-d100-4ea4-abbc-860d618497f7\"}, {\"attributes\": {\"tags\": [], \"doc\": null, \"renderers\": [], \"callback\": null, \"names\": [], \"id\": \"98fa3a9c-e063-4cc3-8bd4-cee59f0de0b9\"}, \"type\": \"DataRange1d\", \"id\": \"98fa3a9c-e063-4cc3-8bd4-cee59f0de0b9\"}, {\"attributes\": {\"tags\": [], \"doc\": null, \"mantissas\": [2, 5, 10], \"id\": \"c5cdca05-125f-447c-a6c0-39d89d362a71\", \"num_minor_ticks\": 5}, \"type\": \"BasicTicker\", \"id\": \"c5cdca05-125f-447c-a6c0-39d89d362a71\"}];\n",
       "        Bokeh.load_models(all_models);\n",
       "        var plots = [{'modeltype': 'Plot', 'elementid': '6797dabd-b466-4656-b6dc-b418e0869b3b', 'modelid': '80c10aa3-515a-408b-9313-61fe89408acf'}];\n",
       "        for (idx in plots) {\n",
       "        \tvar plot = plots[idx];\n",
       "        \tvar model = Bokeh.Collections(plot.modeltype).get(plot.modelid);\n",
       "        \tBokeh.logger.info('Realizing plot:')\n",
       "        \tBokeh.logger.info(' - modeltype: ' + plot.modeltype);\n",
       "        \tBokeh.logger.info(' - modelid: ' + plot.modelid);\n",
       "        \tBokeh.logger.info(' - elementid: ' + plot.elementid);\n",
       "        \tvar view = new model.default_view({\n",
       "        \t\tmodel: model,\n",
       "        \t\tel: '#' + plot.elementid\n",
       "        \t});\n",
       "        \tBokeh.index[plot.modelid] = view;\n",
       "        }\n",
       "    });\n",
       "    </script>\n",
       "<div class=\"plotdiv\" id=\"6797dabd-b466-4656-b6dc-b418e0869b3b\"></div>\n",
       "\n"
      ]
     },
     "metadata": {},
     "output_type": "display_data"
    }
   ],
   "source": [
    "e = composite_experiment([[\"cine\",\"name\",\"TMDb\"]],\"l\")\n",
    "e.ntype_prediction(1,20,1)\n",
    "show(e.p)"
   ]
  },
  {
   "cell_type": "code",
   "execution_count": 14,
   "metadata": {
    "collapsed": false
   },
   "outputs": [
    {
     "data": {
      "text/html": [
       "<script type=\"text/javascript\">\n",
       "        Bokeh.$(function() {\n",
       "        var all_models = [{\"attributes\": {\"plot\": {\"subtype\": \"Figure\", \"type\": \"Plot\", \"id\": \"91fb0aba-8db6-4d9d-95e0-3745f7df302e\"}, \"dimensions\": [\"width\", \"height\"], \"tags\": [], \"doc\": null, \"id\": \"4b56aaae-72e4-404f-acc6-c82a0e8bc3a1\"}, \"type\": \"PanTool\", \"id\": \"4b56aaae-72e4-404f-acc6-c82a0e8bc3a1\"}, {\"attributes\": {\"line_color\": {\"value\": \"#58dc91\"}, \"line_width\": {\"value\": 2.0}, \"line_alpha\": {\"value\": 1.0}, \"doc\": null, \"tags\": [], \"y\": {\"field\": \"y\"}, \"x\": {\"field\": \"x\"}, \"id\": \"074f0623-5d31-4684-af0e-8f9b87a4fbe7\"}, \"type\": \"Line\", \"id\": \"074f0623-5d31-4684-af0e-8f9b87a4fbe7\"}, {\"attributes\": {\"plot\": {\"subtype\": \"Figure\", \"type\": \"Plot\", \"id\": \"91fb0aba-8db6-4d9d-95e0-3745f7df302e\"}, \"tags\": [], \"doc\": null, \"id\": \"3af5241a-75f6-4bd0-8de7-ff73ffcf950a\"}, \"type\": \"HelpTool\", \"id\": \"3af5241a-75f6-4bd0-8de7-ff73ffcf950a\"}, {\"attributes\": {\"plot\": {\"subtype\": \"Figure\", \"type\": \"Plot\", \"id\": \"91fb0aba-8db6-4d9d-95e0-3745f7df302e\"}, \"dimensions\": [\"width\", \"height\"], \"tags\": [], \"doc\": null, \"id\": \"11b54bcc-3fc5-4136-ba31-565224d8db31\"}, \"type\": \"WheelZoomTool\", \"id\": \"11b54bcc-3fc5-4136-ba31-565224d8db31\"}, {\"attributes\": {\"tags\": [], \"doc\": null, \"mantissas\": [2, 5, 10], \"id\": \"5fa2de99-a148-4fda-8b98-c003b091eb81\", \"num_minor_ticks\": 5}, \"type\": \"BasicTicker\", \"id\": \"5fa2de99-a148-4fda-8b98-c003b091eb81\"}, {\"attributes\": {\"doc\": null, \"id\": \"17730ebf-710c-4faf-ae40-f48dd45d6307\", \"tags\": []}, \"type\": \"BasicTickFormatter\", \"id\": \"17730ebf-710c-4faf-ae40-f48dd45d6307\"}, {\"attributes\": {\"plot\": {\"subtype\": \"Figure\", \"type\": \"Plot\", \"id\": \"91fb0aba-8db6-4d9d-95e0-3745f7df302e\"}, \"dimensions\": [\"width\", \"height\"], \"tags\": [], \"doc\": null, \"id\": \"5c0ede15-1910-4f95-a96e-e889d950aed8\"}, \"type\": \"BoxZoomTool\", \"id\": \"5c0ede15-1910-4f95-a96e-e889d950aed8\"}, {\"attributes\": {\"geometries\": [], \"tags\": [], \"doc\": null, \"id\": \"3ff92314-6cfc-4559-878a-ba0b420abee7\"}, \"type\": \"ToolEvents\", \"id\": \"3ff92314-6cfc-4559-878a-ba0b420abee7\"}, {\"attributes\": {\"plot\": {\"subtype\": \"Figure\", \"type\": \"Plot\", \"id\": \"91fb0aba-8db6-4d9d-95e0-3745f7df302e\"}, \"tags\": [], \"doc\": null, \"dimension\": 1, \"ticker\": {\"type\": \"BasicTicker\", \"id\": \"4eaa4579-4814-4dc7-ad2a-05266f207434\"}, \"id\": \"d06b411d-24e4-4fbd-b187-daf715f9288a\"}, \"type\": \"Grid\", \"id\": \"d06b411d-24e4-4fbd-b187-daf715f9288a\"}, {\"attributes\": {\"plot\": {\"subtype\": \"Figure\", \"type\": \"Plot\", \"id\": \"91fb0aba-8db6-4d9d-95e0-3745f7df302e\"}, \"tags\": [], \"doc\": null, \"formatter\": {\"type\": \"BasicTickFormatter\", \"id\": \"17730ebf-710c-4faf-ae40-f48dd45d6307\"}, \"ticker\": {\"type\": \"BasicTicker\", \"id\": \"4eaa4579-4814-4dc7-ad2a-05266f207434\"}, \"id\": \"44260f09-4e59-4790-a97e-4a24bdaef7a1\"}, \"type\": \"LinearAxis\", \"id\": \"44260f09-4e59-4790-a97e-4a24bdaef7a1\"}, {\"attributes\": {\"tags\": [], \"doc\": null, \"mantissas\": [2, 5, 10], \"id\": \"4eaa4579-4814-4dc7-ad2a-05266f207434\", \"num_minor_ticks\": 5}, \"type\": \"BasicTicker\", \"id\": \"4eaa4579-4814-4dc7-ad2a-05266f207434\"}, {\"attributes\": {\"plot\": {\"subtype\": \"Figure\", \"type\": \"Plot\", \"id\": \"91fb0aba-8db6-4d9d-95e0-3745f7df302e\"}, \"tags\": [], \"doc\": null, \"formatter\": {\"type\": \"BasicTickFormatter\", \"id\": \"6077ae0e-9d29-48bc-a05b-6252234e5d39\"}, \"ticker\": {\"type\": \"BasicTicker\", \"id\": \"5fa2de99-a148-4fda-8b98-c003b091eb81\"}, \"id\": \"eb39f25a-83c3-4d9d-824a-fb7e947e404c\"}, \"type\": \"LinearAxis\", \"id\": \"eb39f25a-83c3-4d9d-824a-fb7e947e404c\"}, {\"attributes\": {\"tags\": [], \"doc\": null, \"renderers\": [], \"callback\": null, \"names\": [], \"id\": \"fffc20b6-51fd-4faa-a128-95dabe81685d\"}, \"type\": \"DataRange1d\", \"id\": \"fffc20b6-51fd-4faa-a128-95dabe81685d\"}, {\"attributes\": {\"background_fill_alpha\": {\"value\": 0.5}, \"plot\": {\"subtype\": \"Figure\", \"type\": \"Plot\", \"id\": \"91fb0aba-8db6-4d9d-95e0-3745f7df302e\"}, \"legends\": [[\"TMDb\", [{\"type\": \"GlyphRenderer\", \"id\": \"b37985ab-bd82-458a-820c-94b926c016ae\"}]]], \"tags\": [], \"doc\": null, \"id\": \"0851b24e-b107-4732-8e34-8ef6ea1b6d5c\"}, \"type\": \"Legend\", \"id\": \"0851b24e-b107-4732-8e34-8ef6ea1b6d5c\"}, {\"attributes\": {\"plot\": {\"subtype\": \"Figure\", \"type\": \"Plot\", \"id\": \"91fb0aba-8db6-4d9d-95e0-3745f7df302e\"}, \"tags\": [], \"doc\": null, \"dimension\": 0, \"ticker\": {\"type\": \"BasicTicker\", \"id\": \"5fa2de99-a148-4fda-8b98-c003b091eb81\"}, \"id\": \"5ca1b74f-d7ff-4dfc-8629-3876741fd8dc\"}, \"type\": \"Grid\", \"id\": \"5ca1b74f-d7ff-4dfc-8629-3876741fd8dc\"}, {\"attributes\": {\"nonselection_glyph\": {\"type\": \"Line\", \"id\": \"358816df-2505-4b71-964c-4396867661ce\"}, \"data_source\": {\"type\": \"ColumnDataSource\", \"id\": \"d94aff54-b27b-4815-a29c-1bf6997e391f\"}, \"tags\": [], \"doc\": null, \"selection_glyph\": null, \"id\": \"b37985ab-bd82-458a-820c-94b926c016ae\", \"glyph\": {\"type\": \"Line\", \"id\": \"074f0623-5d31-4684-af0e-8f9b87a4fbe7\"}}, \"type\": \"GlyphRenderer\", \"id\": \"b37985ab-bd82-458a-820c-94b926c016ae\"}, {\"subtype\": \"Figure\", \"type\": \"Plot\", \"id\": \"91fb0aba-8db6-4d9d-95e0-3745f7df302e\", \"attributes\": {\"x_range\": {\"type\": \"DataRange1d\", \"id\": \"6d1e03c7-e5d4-437a-b0ac-70909ac74a5c\"}, \"right\": [], \"tags\": [], \"tools\": [{\"type\": \"PanTool\", \"id\": \"4b56aaae-72e4-404f-acc6-c82a0e8bc3a1\"}, {\"type\": \"WheelZoomTool\", \"id\": \"11b54bcc-3fc5-4136-ba31-565224d8db31\"}, {\"type\": \"BoxZoomTool\", \"id\": \"5c0ede15-1910-4f95-a96e-e889d950aed8\"}, {\"type\": \"PreviewSaveTool\", \"id\": \"49bf743e-c033-4830-b988-e6f80e30444b\"}, {\"type\": \"ResizeTool\", \"id\": \"6938483e-0f5c-4c82-a5b3-65366d4db089\"}, {\"type\": \"ResetTool\", \"id\": \"a4d72a37-713c-405a-a9cb-b94a50d7c83a\"}, {\"type\": \"HelpTool\", \"id\": \"3af5241a-75f6-4bd0-8de7-ff73ffcf950a\"}], \"extra_y_ranges\": {}, \"plot_width\": 1000, \"renderers\": [{\"type\": \"LinearAxis\", \"id\": \"eb39f25a-83c3-4d9d-824a-fb7e947e404c\"}, {\"type\": \"Grid\", \"id\": \"5ca1b74f-d7ff-4dfc-8629-3876741fd8dc\"}, {\"type\": \"LinearAxis\", \"id\": \"44260f09-4e59-4790-a97e-4a24bdaef7a1\"}, {\"type\": \"Grid\", \"id\": \"d06b411d-24e4-4fbd-b187-daf715f9288a\"}, {\"type\": \"Legend\", \"id\": \"0851b24e-b107-4732-8e34-8ef6ea1b6d5c\"}, {\"type\": \"GlyphRenderer\", \"id\": \"b37985ab-bd82-458a-820c-94b926c016ae\"}], \"extra_x_ranges\": {}, \"plot_height\": 600, \"tool_events\": {\"type\": \"ToolEvents\", \"id\": \"3ff92314-6cfc-4559-878a-ba0b420abee7\"}, \"above\": [], \"doc\": null, \"id\": \"91fb0aba-8db6-4d9d-95e0-3745f7df302e\", \"y_range\": {\"type\": \"DataRange1d\", \"id\": \"fffc20b6-51fd-4faa-a128-95dabe81685d\"}, \"below\": [{\"type\": \"LinearAxis\", \"id\": \"eb39f25a-83c3-4d9d-824a-fb7e947e404c\"}], \"left\": [{\"type\": \"LinearAxis\", \"id\": \"44260f09-4e59-4790-a97e-4a24bdaef7a1\"}]}}, {\"attributes\": {\"line_color\": {\"value\": \"#1f77b4\"}, \"line_width\": {\"value\": 2.0}, \"line_alpha\": {\"value\": 0.1}, \"doc\": null, \"tags\": [], \"y\": {\"field\": \"y\"}, \"x\": {\"field\": \"x\"}, \"id\": \"358816df-2505-4b71-964c-4396867661ce\"}, \"type\": \"Line\", \"id\": \"358816df-2505-4b71-964c-4396867661ce\"}, {\"attributes\": {\"plot\": {\"subtype\": \"Figure\", \"type\": \"Plot\", \"id\": \"91fb0aba-8db6-4d9d-95e0-3745f7df302e\"}, \"tags\": [], \"doc\": null, \"id\": \"49bf743e-c033-4830-b988-e6f80e30444b\"}, \"type\": \"PreviewSaveTool\", \"id\": \"49bf743e-c033-4830-b988-e6f80e30444b\"}, {\"attributes\": {\"plot\": {\"subtype\": \"Figure\", \"type\": \"Plot\", \"id\": \"91fb0aba-8db6-4d9d-95e0-3745f7df302e\"}, \"tags\": [], \"doc\": null, \"id\": \"a4d72a37-713c-405a-a9cb-b94a50d7c83a\"}, \"type\": \"ResetTool\", \"id\": \"a4d72a37-713c-405a-a9cb-b94a50d7c83a\"}, {\"attributes\": {\"column_names\": [\"y\", \"x\"], \"tags\": [], \"doc\": null, \"selected\": {\"2d\": {\"indices\": []}, \"1d\": {\"indices\": []}, \"0d\": {\"indices\": [], \"flag\": false}}, \"callback\": null, \"data\": {\"y\": [0.6925925925925925, 0.7184466019417476, 0.7152245345016429, 0.7121129820749592, 0.69352204681546, 0.7161862527716186, 0.7085775173148642, 0.6954370533260033, 0.6987951807228916, 0.6981441048034934], \"x\": [1, 2, 3, 4, 5, 6, 7, 8, 9, 10]}, \"id\": \"d94aff54-b27b-4815-a29c-1bf6997e391f\"}, \"type\": \"ColumnDataSource\", \"id\": \"d94aff54-b27b-4815-a29c-1bf6997e391f\"}, {\"attributes\": {\"tags\": [], \"doc\": null, \"renderers\": [], \"callback\": null, \"names\": [], \"id\": \"6d1e03c7-e5d4-437a-b0ac-70909ac74a5c\"}, \"type\": \"DataRange1d\", \"id\": \"6d1e03c7-e5d4-437a-b0ac-70909ac74a5c\"}, {\"attributes\": {\"doc\": null, \"id\": \"6077ae0e-9d29-48bc-a05b-6252234e5d39\", \"tags\": []}, \"type\": \"BasicTickFormatter\", \"id\": \"6077ae0e-9d29-48bc-a05b-6252234e5d39\"}, {\"attributes\": {\"plot\": {\"subtype\": \"Figure\", \"type\": \"Plot\", \"id\": \"91fb0aba-8db6-4d9d-95e0-3745f7df302e\"}, \"tags\": [], \"doc\": null, \"id\": \"6938483e-0f5c-4c82-a5b3-65366d4db089\"}, \"type\": \"ResizeTool\", \"id\": \"6938483e-0f5c-4c82-a5b3-65366d4db089\"}];\n",
       "        Bokeh.load_models(all_models);\n",
       "        var plots = [{'modeltype': 'Plot', 'elementid': '31445349-51b2-45af-90f6-9393ab8792a9', 'modelid': '91fb0aba-8db6-4d9d-95e0-3745f7df302e'}];\n",
       "        for (idx in plots) {\n",
       "        \tvar plot = plots[idx];\n",
       "        \tvar model = Bokeh.Collections(plot.modeltype).get(plot.modelid);\n",
       "        \tBokeh.logger.info('Realizing plot:')\n",
       "        \tBokeh.logger.info(' - modeltype: ' + plot.modeltype);\n",
       "        \tBokeh.logger.info(' - modelid: ' + plot.modelid);\n",
       "        \tBokeh.logger.info(' - elementid: ' + plot.elementid);\n",
       "        \tvar view = new model.default_view({\n",
       "        \t\tmodel: model,\n",
       "        \t\tel: '#' + plot.elementid\n",
       "        \t});\n",
       "        \tBokeh.index[plot.modelid] = view;\n",
       "        }\n",
       "    });\n",
       "    </script>\n",
       "<div class=\"plotdiv\" id=\"31445349-51b2-45af-90f6-9393ab8792a9\"></div>\n",
       "\n"
      ]
     },
     "metadata": {},
     "output_type": "display_data"
    }
   ],
   "source": [
    "e = composite_experiment([[\"cine\",\"name\",\"TMDb\"]],\"k\")\n",
    "e.ntype_prediction(1,10,1)\n",
    "show(e.p)"
   ]
  },
  {
   "cell_type": "code",
   "execution_count": null,
   "metadata": {
    "collapsed": true
   },
   "outputs": [],
   "source": []
  }
 ],
 "metadata": {
  "kernelspec": {
   "display_name": "Python 2",
   "language": "python",
   "name": "python2"
  },
  "language_info": {
   "codemirror_mode": {
    "name": "ipython",
    "version": 2
   },
   "file_extension": ".py",
   "mimetype": "text/x-python",
   "name": "python",
   "nbconvert_exporter": "python",
   "pygments_lexer": "ipython2",
   "version": "2.7.12"
  }
 },
 "nbformat": 4,
 "nbformat_minor": 0
}
